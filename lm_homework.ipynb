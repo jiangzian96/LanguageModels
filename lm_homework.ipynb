{
  "nbformat": 4,
  "nbformat_minor": 0,
  "metadata": {
    "kernelspec": {
      "name": "python3",
      "display_name": "Python 3"
    },
    "language_info": {
      "codemirror_mode": {
        "name": "ipython",
        "version": 3
      },
      "file_extension": ".py",
      "mimetype": "text/x-python",
      "name": "python",
      "nbconvert_exporter": "python",
      "pygments_lexer": "ipython3",
      "version": "3.6.9"
    },
    "colab": {
      "name": "lm_homework.ipynb",
      "provenance": [],
      "collapsed_sections": []
    },
    "accelerator": "GPU"
  },
  "cells": [
    {
      "cell_type": "markdown",
      "metadata": {
        "id": "SE7WxuOMSOuD",
        "colab_type": "text"
      },
      "source": [
        "# DS-GA 1011 Homework 2\n",
        "## N-Gram and Neural Language Modeling"
      ]
    },
    {
      "cell_type": "code",
      "metadata": {
        "id": "KJuzEOK8SOuE",
        "colab_type": "code",
        "colab": {
          "base_uri": "https://localhost:8080/",
          "height": 51
        },
        "outputId": "ea301ff5-bd05-4b27-b249-a0cf884ffa9e"
      },
      "source": [
        "!pip install jsonlines\n",
        "import os\n",
        "import json\n",
        "import jsonlines\n",
        "import numpy as np\n",
        "from tqdm import tqdm\n",
        "from collections import defaultdict"
      ],
      "execution_count": 18,
      "outputs": [
        {
          "output_type": "stream",
          "text": [
            "Requirement already satisfied: jsonlines in /usr/local/lib/python3.6/dist-packages (1.2.0)\n",
            "Requirement already satisfied: six in /usr/local/lib/python3.6/dist-packages (from jsonlines) (1.12.0)\n"
          ],
          "name": "stdout"
        }
      ]
    },
    {
      "cell_type": "markdown",
      "metadata": {
        "id": "t1OYFNCJSOuH",
        "colab_type": "text"
      },
      "source": [
        "## I. N-Gram Language Modeling"
      ]
    },
    {
      "cell_type": "markdown",
      "metadata": {
        "id": "9UjJmSyQSOuI",
        "colab_type": "text"
      },
      "source": [
        "#### Utilities"
      ]
    },
    {
      "cell_type": "code",
      "metadata": {
        "id": "27VvNTPoSOuJ",
        "colab_type": "code",
        "colab": {}
      },
      "source": [
        "def load_wikitext(filename='wikitext2-sentencized.json'):\n",
        "    if not os.path.exists(filename):\n",
        "        !wget \"https://nyu.box.com/shared/static/9kb7l7ci30hb6uahhbssjlq0kctr5ii4.json\" -O $filename\n",
        "    \n",
        "    datasets = json.load(open(filename, 'r'))\n",
        "    for name in datasets:\n",
        "        datasets[name] = [x.split() for x in datasets[name]]\n",
        "    vocab = list(set([t for ts in datasets['train'] for t in ts]))      \n",
        "    print(\"Vocab size: %d\" % (len(vocab)))\n",
        "    return datasets, vocab\n",
        "\n",
        "def perplexity(model, sequences):\n",
        "    n_total = 0\n",
        "    logp_total = 0\n",
        "    for sequence in sequences:\n",
        "        logp_total += model.sequence_logp(sequence)\n",
        "        n_total += len(sequence) + 1  \n",
        "    ppl = 2 ** (- (1.0 / n_total) * logp_total)  \n",
        "    return ppl"
      ],
      "execution_count": 0,
      "outputs": []
    },
    {
      "cell_type": "markdown",
      "metadata": {
        "id": "ydNd5VraSOuL",
        "colab_type": "text"
      },
      "source": [
        "### Additive Smoothing"
      ]
    },
    {
      "cell_type": "code",
      "metadata": {
        "id": "5B8RhA_RSOuM",
        "colab_type": "code",
        "colab": {}
      },
      "source": [
        "class NGramAdditive(object):\n",
        "    def __init__(self, n, delta, vsize):\n",
        "        self.n = n\n",
        "        self.delta = delta\n",
        "        self.count = defaultdict(lambda: defaultdict(float))\n",
        "        self.total = defaultdict(float)\n",
        "        self.vsize = vsize\n",
        "    \n",
        "    def estimate(self, sequences):\n",
        "        for sequence in sequences:\n",
        "            padded_sequence = ['<bos>']*(self.n-1) + sequence + ['<eos>']\n",
        "            for i in range(len(padded_sequence) - self.n+1):\n",
        "                ngram = tuple(padded_sequence[i:i+self.n])\n",
        "                prefix, word = ngram[:-1], ngram[-1]\n",
        "                self.count[prefix][word] += 1\n",
        "                self.total[prefix] += 1\n",
        "                \n",
        "    def sequence_logp(self, sequence):\n",
        "        padded_sequence = ['<bos>']*(self.n-1) + sequence + ['<eos>']\n",
        "        total_logp = 0\n",
        "        for i in range(len(padded_sequence) - self.n+1):\n",
        "            ngram = tuple(padded_sequence[i:i+self.n])\n",
        "            total_logp += np.log2(self.ngram_prob(ngram))\n",
        "        return total_logp\n",
        "\n",
        "    def ngram_prob(self, ngram):\n",
        "        prefix = ngram[:-1]\n",
        "        word = ngram[-1]\n",
        "        prob = ((self.delta + self.count[prefix][word]) / \n",
        "                (self.total[prefix] + self.delta*self.vsize))\n",
        "        return prob"
      ],
      "execution_count": 0,
      "outputs": []
    },
    {
      "cell_type": "code",
      "metadata": {
        "id": "jGmD7Fu6SOuO",
        "colab_type": "code",
        "colab": {
          "base_uri": "https://localhost:8080/",
          "height": 581
        },
        "outputId": "6fd64fe0-0c96-4c33-fcd5-492b41aa8c57"
      },
      "source": [
        "datasets, vocab = load_wikitext()\n",
        "\n",
        "delta = 0.0005\n",
        "for n in [2, 3, 4]:\n",
        "    lm = NGramAdditive(n=n, delta=delta, vsize=len(vocab)+1)  # +1 is for <eos>\n",
        "    lm.estimate(datasets['train'])\n",
        "\n",
        "    print(\"Baseline (Additive smoothing, n=%d, delta=%.4f)) Train Perplexity: %.3f\" % (n, delta, perplexity(lm, datasets['train'])))\n",
        "    print(\"Baseline (Additive smoothing, n=%d, delta=%.4f)) Valid Perplexity: %.3f\" % (n, delta, perplexity(lm, datasets['valid'])))"
      ],
      "execution_count": 4,
      "outputs": [
        {
          "output_type": "stream",
          "text": [
            "--2019-10-08 04:04:58--  https://nyu.box.com/shared/static/9kb7l7ci30hb6uahhbssjlq0kctr5ii4.json\n",
            "Resolving nyu.box.com (nyu.box.com)... 185.235.236.197\n",
            "Connecting to nyu.box.com (nyu.box.com)|185.235.236.197|:443... connected.\n",
            "HTTP request sent, awaiting response... 301 Moved Permanently\n",
            "Location: /public/static/9kb7l7ci30hb6uahhbssjlq0kctr5ii4.json [following]\n",
            "--2019-10-08 04:04:58--  https://nyu.box.com/public/static/9kb7l7ci30hb6uahhbssjlq0kctr5ii4.json\n",
            "Reusing existing connection to nyu.box.com:443.\n",
            "HTTP request sent, awaiting response... 301 Moved Permanently\n",
            "Location: https://nyu.app.box.com/public/static/9kb7l7ci30hb6uahhbssjlq0kctr5ii4.json [following]\n",
            "--2019-10-08 04:04:59--  https://nyu.app.box.com/public/static/9kb7l7ci30hb6uahhbssjlq0kctr5ii4.json\n",
            "Resolving nyu.app.box.com (nyu.app.box.com)... 185.235.236.199\n",
            "Connecting to nyu.app.box.com (nyu.app.box.com)|185.235.236.199|:443... connected.\n",
            "HTTP request sent, awaiting response... 302 Found\n",
            "Location: https://public.boxcloud.com/d/1/b1!e6Zb48vwd5kT28j9lvSnEWbOBZtfpVZVwHvxf3DV_3KhAwa2eUh9jbtqBUpPB6RMh3NbxmZESBe5Y16UvIFNa9BPr7DZUwhe0_gBZlI5JY_g0quuazhLP0Em51aOOkXBHSNt0kMW0pt4lzbvCAtBxoc5SKd91dyBG9GpB3osnuH-mQEmqXkJnp7L8qxpZ-m-Ux1n9DY_5spRCU-Cv4FuM9iBZ9mcKCCU8AjVlrV6T7zpYQchC_-rc_8NLW62V-NGzCFXuMRlgpzL_09B31WatuEBoiG0Yt6xim-bsa0Ibuct0sFceD0zcfzweY5ZQH4GiQga9C-rsS_QbXvjyArb2NrNwaDtJXkZ186rzcizeRX9fjuC1EnGbMm5yIFv5yXcW-bnEjoAXLsxcb372BMPOoWTloTWvhBqpvncmbqxAtEk7Q9693OXCy6QKW0pd_x0g4eBfu_VgXTyePoCRxtyeXCS2PD0LPeePuji_7k262HTAPW7WqSnF5EsnHBLLMPSR-Sy4Og57THTj6DDX51xWTL8bqAdoOHj73pRpRjNkBxxf77LSCf8MH4GR2OPZoe0NevVwMKYUm0pkgIxXmloNKExLljihHIXAhmXiB5TXVHjp8FREOHKk-uypKBQxyTdslEgsSLcqJG9-lG8tZAKNlsSkxZp8VaOPbFCxzLgub5tEx8YEGMGkdhJDhMCzs3ltpwgITtcUMzvRBzgobSITVV3XuJIhfXCcDzjlek1bPVqhXIKpQkMD3uviCZOmj6OZ_PLYNgux74aCprsjs2m75lC1XvEuuAUMt1yBBGCcp4OmGVt9dOOEQv9PsjUw6aB8tD7LPoXjN6liJ95wVvOGZsFfTrIO9b3Yzu8sSjhyeKXRaBNel7Ap9ZJfcqSz9GDR4U9l_Bn-IcerfzV2KXvnd-Ia4DTbZPTHegu-3xjvuyb7sIomeoYGmLgIN8UfBgknuMgKFNGWOwmv8WHUxQ2j2eLpWDvnGYSSAwmJ_TF7hPYG6uGf3T7qzw5-GuR7bkw3X4Yv97Cm66sfRZqt1RS49Lcrmvhk5RbQJKGbUad62GnbqzRfktjopf57sQLyRLK7mwXwAMHrhvXhd0nIzpaDJwApWqDc8tIozTOvAeYp4d1WJf_gIjIMd8dHiu98bzo-OMldwzV-y84jHAY6cJSPfnuRNaNpIHRfgtczFGp2mPPt7Bo8zz7w3UNtAYLzT_Ty7_VixciNZa7f6dE0HtqMdi2LEhEOiy_OViYj6gb-Z9SgZHlEkMFzd4tPb2Zv8dmY5LYT1473nKXCwl68FmSopz_10nE3VMiS1APJ2eNPmyeJHqOjTf6Rvz_syM016I2AIl5xJCrus3yCOe34Ff16eZoas-OddkWb1xS4af5V0R22QfSTysbKinZc2fP11Ldr0fIQ8vAR1ZgtL0./download [following]\n",
            "--2019-10-08 04:04:59--  https://public.boxcloud.com/d/1/b1!e6Zb48vwd5kT28j9lvSnEWbOBZtfpVZVwHvxf3DV_3KhAwa2eUh9jbtqBUpPB6RMh3NbxmZESBe5Y16UvIFNa9BPr7DZUwhe0_gBZlI5JY_g0quuazhLP0Em51aOOkXBHSNt0kMW0pt4lzbvCAtBxoc5SKd91dyBG9GpB3osnuH-mQEmqXkJnp7L8qxpZ-m-Ux1n9DY_5spRCU-Cv4FuM9iBZ9mcKCCU8AjVlrV6T7zpYQchC_-rc_8NLW62V-NGzCFXuMRlgpzL_09B31WatuEBoiG0Yt6xim-bsa0Ibuct0sFceD0zcfzweY5ZQH4GiQga9C-rsS_QbXvjyArb2NrNwaDtJXkZ186rzcizeRX9fjuC1EnGbMm5yIFv5yXcW-bnEjoAXLsxcb372BMPOoWTloTWvhBqpvncmbqxAtEk7Q9693OXCy6QKW0pd_x0g4eBfu_VgXTyePoCRxtyeXCS2PD0LPeePuji_7k262HTAPW7WqSnF5EsnHBLLMPSR-Sy4Og57THTj6DDX51xWTL8bqAdoOHj73pRpRjNkBxxf77LSCf8MH4GR2OPZoe0NevVwMKYUm0pkgIxXmloNKExLljihHIXAhmXiB5TXVHjp8FREOHKk-uypKBQxyTdslEgsSLcqJG9-lG8tZAKNlsSkxZp8VaOPbFCxzLgub5tEx8YEGMGkdhJDhMCzs3ltpwgITtcUMzvRBzgobSITVV3XuJIhfXCcDzjlek1bPVqhXIKpQkMD3uviCZOmj6OZ_PLYNgux74aCprsjs2m75lC1XvEuuAUMt1yBBGCcp4OmGVt9dOOEQv9PsjUw6aB8tD7LPoXjN6liJ95wVvOGZsFfTrIO9b3Yzu8sSjhyeKXRaBNel7Ap9ZJfcqSz9GDR4U9l_Bn-IcerfzV2KXvnd-Ia4DTbZPTHegu-3xjvuyb7sIomeoYGmLgIN8UfBgknuMgKFNGWOwmv8WHUxQ2j2eLpWDvnGYSSAwmJ_TF7hPYG6uGf3T7qzw5-GuR7bkw3X4Yv97Cm66sfRZqt1RS49Lcrmvhk5RbQJKGbUad62GnbqzRfktjopf57sQLyRLK7mwXwAMHrhvXhd0nIzpaDJwApWqDc8tIozTOvAeYp4d1WJf_gIjIMd8dHiu98bzo-OMldwzV-y84jHAY6cJSPfnuRNaNpIHRfgtczFGp2mPPt7Bo8zz7w3UNtAYLzT_Ty7_VixciNZa7f6dE0HtqMdi2LEhEOiy_OViYj6gb-Z9SgZHlEkMFzd4tPb2Zv8dmY5LYT1473nKXCwl68FmSopz_10nE3VMiS1APJ2eNPmyeJHqOjTf6Rvz_syM016I2AIl5xJCrus3yCOe34Ff16eZoas-OddkWb1xS4af5V0R22QfSTysbKinZc2fP11Ldr0fIQ8vAR1ZgtL0./download\n",
            "Resolving public.boxcloud.com (public.boxcloud.com)... 185.235.236.200\n",
            "Connecting to public.boxcloud.com (public.boxcloud.com)|185.235.236.200|:443... connected.\n",
            "HTTP request sent, awaiting response... 200 OK\n",
            "Length: 12714601 (12M) [application/octet-stream]\n",
            "Saving to: ‘wikitext2-sentencized.json’\n",
            "\n",
            "wikitext2-sentenciz 100%[===================>]  12.12M  8.06MB/s    in 1.5s    \n",
            "\n",
            "2019-10-08 04:05:01 (8.06 MB/s) - ‘wikitext2-sentencized.json’ saved [12714601/12714601]\n",
            "\n",
            "Vocab size: 33175\n",
            "Baseline (Additive smoothing, n=2, delta=0.0005)) Train Perplexity: 90.228\n",
            "Baseline (Additive smoothing, n=2, delta=0.0005)) Valid Perplexity: 525.825\n",
            "Baseline (Additive smoothing, n=3, delta=0.0005)) Train Perplexity: 26.768\n",
            "Baseline (Additive smoothing, n=3, delta=0.0005)) Valid Perplexity: 2577.128\n",
            "Baseline (Additive smoothing, n=4, delta=0.0005)) Train Perplexity: 19.947\n",
            "Baseline (Additive smoothing, n=4, delta=0.0005)) Valid Perplexity: 9570.901\n"
          ],
          "name": "stdout"
        }
      ]
    },
    {
      "cell_type": "markdown",
      "metadata": {
        "id": "Hwivjzu3SOuR",
        "colab_type": "text"
      },
      "source": [
        "### I.1 Interpolation"
      ]
    },
    {
      "cell_type": "code",
      "metadata": {
        "id": "t0ZrnSXtSOuS",
        "colab_type": "code",
        "colab": {}
      },
      "source": [
        "class NGramInterpolation(object):\n",
        "    def __init__(self, n, vsize):\n",
        "        self.n = n\n",
        "        self.vsize = vsize\n",
        "        self.count = defaultdict()\n",
        "        self.total = defaultdict()\n",
        "        self.even = 1/(n+1)\n",
        "        self.lamdict = [0,0,0,0,0]\n",
        "        # for i in range(n+1):\n",
        "        #   self.lamdict[i]= self.even\n",
        "        if self.n == 4:\n",
        "            self.lamdict = [0.1,1.5/4,1.5/4-0.1,1.5/4-0.2,1.5/4-0.3]\n",
        "        elif self.n == 3:\n",
        "            self.lamdict = [0.1,0.5,0.3,0.1,0]\n",
        "        else:\n",
        "            self.lamdict = [0.1,0.5,0.4,0,0]\n",
        "\n",
        "    def estimate(self, sequences):\n",
        "        for k in range(1,self.n+1):\n",
        "            self.count[k] = defaultdict(lambda: defaultdict(float))\n",
        "            self.total[k] = defaultdict(float)\n",
        "            for sequence in sequences:\n",
        "                padded_sequence = ['<bos>']*(k-1) + sequence + ['<eos>']\n",
        "                for i in range(len(padded_sequence) - k+1):\n",
        "                    ngram = tuple(padded_sequence[i:i+k])\n",
        "                    prefix, word = ngram[:-1], ngram[-1]\n",
        "                    self.count[k][prefix][word] += 1\n",
        "                    self.total[k][prefix] += 1\n",
        "                \n",
        "    def sequence_logp(self, sequence):\n",
        "        padded_sequence = ['<bos>']*(self.n-1) + sequence + ['<eos>']\n",
        "        total_logp = 0\n",
        "        for i in range(len(padded_sequence) - self.n+1):\n",
        "            ngram = tuple(padded_sequence[i:i+self.n])\n",
        "            total_logp += np.log2(self.ngram_prob(ngram))\n",
        "        return total_logp\n",
        "\n",
        "    def ngram_prob(self, ngram):\n",
        "        prob = self.lamdict[0]* 1/self.vsize\n",
        "        for i in range(1, self.n+1):\n",
        "            prefix = ngram[-i:-1]\n",
        "            word = ngram[-1]\n",
        "            prob += self.lamdict[i]*self.count[i][prefix][word] \\\n",
        "                      /max(1, self.total[i][prefix])\n",
        "        return prob"
      ],
      "execution_count": 0,
      "outputs": []
    },
    {
      "cell_type": "code",
      "metadata": {
        "id": "pzOEIVnKil6p",
        "colab_type": "code",
        "colab": {
          "base_uri": "https://localhost:8080/",
          "height": 136
        },
        "outputId": "9c9594cf-a1cd-407e-bb9c-67e630f26071"
      },
      "source": [
        "datasets, vocab = load_wikitext()\n",
        "lams = defaultdict()\n",
        "for n in [2,3,4]:\n",
        "    lm = NGramInterpolation(n=n, vsize=len(vocab)+1)  # +1 is for <eos>\n",
        "    lm.estimate(datasets['train'])\n",
        "    lams[n] = lm.lamdict\n",
        "\n",
        "    print(\"Interpolation, n=%d Train Perplexity: %.3f\" % (n, perplexity(lm, datasets['train'])))\n",
        "    print(\"Interpolation, n=%d Valid Perplexity: %.3f\" % (n, perplexity(lm, datasets['valid'])))"
      ],
      "execution_count": 6,
      "outputs": [
        {
          "output_type": "stream",
          "text": [
            "Vocab size: 33175\n",
            "Interpolation, n=2 Train Perplexity: 148.394\n",
            "Interpolation, n=2 Valid Perplexity: 341.750\n",
            "Interpolation, n=3 Train Perplexity: 39.441\n",
            "Interpolation, n=3 Valid Perplexity: 314.132\n",
            "Interpolation, n=4 Train Perplexity: 11.672\n",
            "Interpolation, n=4 Valid Perplexity: 306.016\n"
          ],
          "name": "stdout"
        }
      ]
    },
    {
      "cell_type": "markdown",
      "metadata": {
        "id": "tgtOxzSbSOuU",
        "colab_type": "text"
      },
      "source": [
        "#### Results (showing $\\lambda_0,\\ldots,\\lambda_n$ values):"
      ]
    },
    {
      "cell_type": "code",
      "metadata": {
        "id": "57DX0WLESOuU",
        "colab_type": "code",
        "colab": {
          "base_uri": "https://localhost:8080/",
          "height": 68
        },
        "outputId": "7b80f1fc-59b2-4f79-a9be-2ea60b27ca90"
      },
      "source": [
        "for i in [2,3,4]:\n",
        "    print(str(i)+'gram lamdas values: lambda0, lambda1, lambda2, lambda3, lambda4 = ' + str(lams[i]))"
      ],
      "execution_count": 7,
      "outputs": [
        {
          "output_type": "stream",
          "text": [
            "2gram lamdas values: lambda0, lambda1, lambda2, lambda3, lambda4 = [0.1, 0.5, 0.4, 0, 0]\n",
            "3gram lamdas values: lambda0, lambda1, lambda2, lambda3, lambda4 = [0.1, 0.5, 0.3, 0.1, 0]\n",
            "4gram lamdas values: lambda0, lambda1, lambda2, lambda3, lambda4 = [0.1, 0.375, 0.275, 0.175, 0.07500000000000001]\n"
          ],
          "name": "stdout"
        }
      ]
    },
    {
      "cell_type": "markdown",
      "metadata": {
        "id": "DqVU_9AFSOuW",
        "colab_type": "text"
      },
      "source": [
        "## II. Neural Language Modeling with a Recurrent Neural Network"
      ]
    },
    {
      "cell_type": "code",
      "metadata": {
        "id": "Ym5ZcfBuSOuX",
        "colab_type": "code",
        "colab": {}
      },
      "source": [
        "import torch\n",
        "import torch.nn as nn"
      ],
      "execution_count": 0,
      "outputs": []
    },
    {
      "cell_type": "markdown",
      "metadata": {
        "id": "u1k_R-hpSOuZ",
        "colab_type": "text"
      },
      "source": [
        "#### Utilities\n",
        "\n",
        "(Hint: you can adopt the `Dictionary`, dataset loading, and training code from the lab for use here)"
      ]
    },
    {
      "cell_type": "code",
      "metadata": {
        "id": "UFAOBCmkSOua",
        "colab_type": "code",
        "colab": {}
      },
      "source": [
        "class Dictionary(object):\n",
        "    def __init__(self, datasets, include_valid=False):\n",
        "        self.tokens = []\n",
        "        self.ids = {}\n",
        "        self.counts = {}\n",
        "        \n",
        "        # add special tokens\n",
        "        self.add_token('<bos>')\n",
        "        self.add_token('<eos>')\n",
        "        self.add_token('<pad>')\n",
        "        self.add_token('<unk>')\n",
        "        \n",
        "        for line in tqdm(datasets['train']):\n",
        "            for w in line:\n",
        "                self.add_token(w)\n",
        "                    \n",
        "        if include_valid is True:\n",
        "            for line in tqdm(datasets['valid']):\n",
        "                for w in line:\n",
        "                    self.add_token(w)\n",
        "        # include test\n",
        "        for line in tqdm(datasets['test']):\n",
        "            for w in line:\n",
        "                self.add_token(w)\n",
        "        \n",
        "        \n",
        "    def add_token(self, w):\n",
        "        if w not in self.tokens:\n",
        "            self.tokens.append(w)\n",
        "            _w_id = len(self.tokens) - 1\n",
        "            self.ids[w] = _w_id\n",
        "            self.counts[w] = 1\n",
        "        else:\n",
        "            self.counts[w] += 1\n",
        "\n",
        "    def get_id(self, w):\n",
        "        return self.ids[w]\n",
        "    \n",
        "    def get_token(self, idx):\n",
        "        return self.tokens[idx]\n",
        "    \n",
        "    def decode_idx_seq(self, l):\n",
        "        return [self.tokens[i] for i in l]\n",
        "    \n",
        "    def encode_token_seq(self, l):\n",
        "        return [self.ids[i] if i in self.ids else self.ids['<unk>'] for i in l]\n",
        "    \n",
        "    def __len__(self):\n",
        "        return len(self.tokens)"
      ],
      "execution_count": 0,
      "outputs": []
    },
    {
      "cell_type": "code",
      "metadata": {
        "id": "a8qXRMlYf5zl",
        "colab_type": "code",
        "colab": {}
      },
      "source": [
        "def tokenize_dataset(datasets, dictionary, ngram_order=2):\n",
        "    tokenized_datasets = {}\n",
        "    for split, dataset in datasets.items():\n",
        "        _current_dictified = []\n",
        "        for l in tqdm(dataset):\n",
        "            l = ['<bos>']*(ngram_order-1) + l + ['<eos>']\n",
        "            encoded_l = dictionary.encode_token_seq(l)\n",
        "            _current_dictified.append(encoded_l)\n",
        "        tokenized_datasets[split] = _current_dictified\n",
        "        \n",
        "    return tokenized_datasets"
      ],
      "execution_count": 0,
      "outputs": []
    },
    {
      "cell_type": "code",
      "metadata": {
        "id": "9bjcR53SgFm_",
        "colab_type": "code",
        "colab": {
          "base_uri": "https://localhost:8080/",
          "height": 153
        },
        "outputId": "7cfcb978-8dac-4c88-80e5-059665fac982"
      },
      "source": [
        "wikitext_dict = Dictionary(datasets, include_valid=True)\n",
        "# checking some example\n",
        "print(' '.join(datasets['train'][3010]))\n",
        "\n",
        "encoded = wikitext_dict.encode_token_seq(datasets['train'][3010])\n",
        "print(f'\\n encoded - {encoded}')\n",
        "decoded = wikitext_dict.decode_idx_seq(encoded)\n",
        "print(f'\\n decoded - {decoded}')"
      ],
      "execution_count": 22,
      "outputs": [
        {
          "output_type": "stream",
          "text": [
            "100%|██████████| 78274/78274 [02:43<00:00, 477.70it/s]\n",
            "100%|██████████| 8464/8464 [00:12<00:00, 669.24it/s]\n",
            "100%|██████████| 9708/9708 [00:13<00:00, 700.83it/s]"
          ],
          "name": "stderr"
        },
        {
          "output_type": "stream",
          "text": [
            "The Nataraja and Ardhanarishvara sculptures are also attributed to the Rashtrakutas .\n",
            "\n",
            " encoded - [75, 8816, 30, 8817, 8732, 70, 91, 2960, 13, 6, 8806, 39]\n",
            "\n",
            " decoded - ['The', 'Nataraja', 'and', 'Ardhanarishvara', 'sculptures', 'are', 'also', 'attributed', 'to', 'the', 'Rashtrakutas', '.']\n"
          ],
          "name": "stdout"
        },
        {
          "output_type": "stream",
          "text": [
            "\n"
          ],
          "name": "stderr"
        }
      ]
    },
    {
      "cell_type": "code",
      "metadata": {
        "id": "HTzR-_1_gHrd",
        "colab_type": "code",
        "colab": {}
      },
      "source": [
        "class RNNLanguageModel(nn.Module):\n",
        "    \"\"\"\n",
        "    This model combines embedding, rnn and projection layer into a single model\n",
        "    \"\"\"\n",
        "    def __init__(self, options):\n",
        "        super().__init__()\n",
        "        \n",
        "        # create each LM part here \n",
        "        self.lookup = nn.Embedding(num_embeddings=options['num_embeddings'], embedding_dim=options['embedding_dim'], padding_idx=options['padding_idx'])\n",
        "        self.rnn = nn.RNN(options['input_size'], options['hidden_size'], options['num_layers'], dropout=options['rnn_dropout'], batch_first=True)\n",
        "        self.projection = nn.Linear(options['hidden_size'], options['num_embeddings'])\n",
        "        \n",
        "    def forward(self, encoded_input_sequence):\n",
        "        \"\"\"\n",
        "        Forward method process the input from token ids to logits\n",
        "        \"\"\"\n",
        "        # |V| -> emb_dim\n",
        "        embeddings = self.lookup(encoded_input_sequence)\n",
        "        # emb_dim, hidden -> (hidden,hidden*num_layers)\n",
        "        rnn_outputs = self.rnn(embeddings)\n",
        "        logits = self.projection(rnn_outputs[0])\n",
        "        \n",
        "        return logits"
      ],
      "execution_count": 0,
      "outputs": []
    },
    {
      "cell_type": "code",
      "metadata": {
        "id": "1N9REL7VgI_6",
        "colab_type": "code",
        "colab": {}
      },
      "source": [
        "num_gpus = torch.cuda.device_count()\n",
        "if num_gpus > 0:\n",
        "    current_device = 'cuda'\n",
        "else:\n",
        "    current_device = 'cpu'"
      ],
      "execution_count": 0,
      "outputs": []
    },
    {
      "cell_type": "code",
      "metadata": {
        "id": "xj-jqdaogLyW",
        "colab_type": "code",
        "colab": {
          "base_uri": "https://localhost:8080/",
          "height": 34
        },
        "outputId": "2f3560d5-daa0-4ed6-962a-f3c49e185422"
      },
      "source": [
        "model_dict_RNN = torch.load('RNN_model.pt')\n",
        "options_RNN = model_dict_RNN['options']\n",
        "model_RNN = RNNLanguageModel(options_RNN).to(current_device)\n",
        "model_RNN.load_state_dict(torch.load(\"RNN_checkpoint.pt\"))"
      ],
      "execution_count": 25,
      "outputs": [
        {
          "output_type": "execute_result",
          "data": {
            "text/plain": [
              "<All keys matched successfully>"
            ]
          },
          "metadata": {
            "tags": []
          },
          "execution_count": 25
        }
      ]
    },
    {
      "cell_type": "code",
      "metadata": {
        "id": "6Jiw1z1agQg7",
        "colab_type": "code",
        "colab": {
          "base_uri": "https://localhost:8080/",
          "height": 102
        },
        "outputId": "443ef197-7594-4f34-fe7a-cb1726f6a79f"
      },
      "source": [
        "model_RNN"
      ],
      "execution_count": 26,
      "outputs": [
        {
          "output_type": "execute_result",
          "data": {
            "text/plain": [
              "RNNLanguageModel(\n",
              "  (lookup): Embedding(33186, 256, padding_idx=2)\n",
              "  (rnn): RNN(256, 512, num_layers=3, batch_first=True, dropout=0.3)\n",
              "  (projection): Linear(in_features=512, out_features=33186, bias=True)\n",
              ")"
            ]
          },
          "metadata": {
            "tags": []
          },
          "execution_count": 26
        }
      ]
    },
    {
      "cell_type": "markdown",
      "metadata": {
        "id": "oRO0lXFfSOub",
        "colab_type": "text"
      },
      "source": [
        "### II.1 LSTM and Hyper-Parameters"
      ]
    },
    {
      "cell_type": "code",
      "metadata": {
        "id": "2dSGKzm3gSn6",
        "colab_type": "code",
        "colab": {}
      },
      "source": [
        "class LSTMLanguageModel(nn.Module):\n",
        "    \"\"\"\n",
        "    This model combines embedding, rnn and projection layer into a single model\n",
        "    \"\"\"\n",
        "    def __init__(self, options):\n",
        "        super().__init__()\n",
        "        \n",
        "        # create each LM part here \n",
        "        self.lookup = nn.Embedding(num_embeddings=options['num_embeddings'], embedding_dim=options['embedding_dim'], padding_idx=options['padding_idx'])\n",
        "        self.lstm = nn.LSTM(options['input_size'], options['hidden_size'], options['num_layers'], dropout=options['lstm_dropout'], batch_first=True)\n",
        "        self.projection = nn.Linear(options['hidden_size'], options['num_embeddings'])\n",
        "        \n",
        "    def forward(self, encoded_input_sequence):\n",
        "        \"\"\"\n",
        "        Forward method process the input from token ids to logits\n",
        "        \"\"\"\n",
        "        # |V| -> emb_dim\n",
        "        embeddings = self.lookup(encoded_input_sequence)\n",
        "        # emb_dim, hidden -> output, (h_n,c_n)     (hidden,hidden*num_layers)\n",
        "        lstm_outputs = self.lstm(embeddings)\n",
        "        logits = self.projection(lstm_outputs[0])\n",
        "        \n",
        "        return logits"
      ],
      "execution_count": 0,
      "outputs": []
    },
    {
      "cell_type": "code",
      "metadata": {
        "id": "XRKE2UnqgUQh",
        "colab_type": "code",
        "colab": {
          "base_uri": "https://localhost:8080/",
          "height": 34
        },
        "outputId": "46259601-cee4-454d-d62c-25e2c0ef62dc"
      },
      "source": [
        "model_dict_LSTM1 = torch.load('LSTM_model.pt')    \n",
        "options_LSTM1 = model_dict_LSTM1['options']\n",
        "model_LSTM1 = LSTMLanguageModel(options_LSTM1).to(current_device)\n",
        "model_LSTM1.load_state_dict(torch.load(\"LSTM_checkpoint.pt\"))"
      ],
      "execution_count": 28,
      "outputs": [
        {
          "output_type": "execute_result",
          "data": {
            "text/plain": [
              "<All keys matched successfully>"
            ]
          },
          "metadata": {
            "tags": []
          },
          "execution_count": 28
        }
      ]
    },
    {
      "cell_type": "code",
      "metadata": {
        "id": "0EmQsQJdgUl8",
        "colab_type": "code",
        "colab": {
          "base_uri": "https://localhost:8080/",
          "height": 102
        },
        "outputId": "ea4fa11f-1d2f-4296-ec58-66585a645839"
      },
      "source": [
        "model_LSTM1"
      ],
      "execution_count": 29,
      "outputs": [
        {
          "output_type": "execute_result",
          "data": {
            "text/plain": [
              "LSTMLanguageModel(\n",
              "  (lookup): Embedding(33186, 256, padding_idx=2)\n",
              "  (lstm): LSTM(256, 512, num_layers=3, batch_first=True, dropout=0.3)\n",
              "  (projection): Linear(in_features=512, out_features=33186, bias=True)\n",
              ")"
            ]
          },
          "metadata": {
            "tags": []
          },
          "execution_count": 29
        }
      ]
    },
    {
      "cell_type": "code",
      "metadata": {
        "id": "reyVBB_CgWda",
        "colab_type": "code",
        "colab": {
          "base_uri": "https://localhost:8080/",
          "height": 34
        },
        "outputId": "84035c75-dfc5-4338-d556-3465418f1e0f"
      },
      "source": [
        "model_dict_LSTM2 = torch.load('LSTM_bigger_model.pt')    \n",
        "options_LSTM2 = model_dict_LSTM2['options']\n",
        "model_LSTM2 = LSTMLanguageModel(options_LSTM2).to(current_device)\n",
        "model_LSTM2.load_state_dict(torch.load(\"LSTM_bigger_checkpoint.pt\"))"
      ],
      "execution_count": 30,
      "outputs": [
        {
          "output_type": "execute_result",
          "data": {
            "text/plain": [
              "<All keys matched successfully>"
            ]
          },
          "metadata": {
            "tags": []
          },
          "execution_count": 30
        }
      ]
    },
    {
      "cell_type": "code",
      "metadata": {
        "id": "0P5qUoqKgYMt",
        "colab_type": "code",
        "colab": {
          "base_uri": "https://localhost:8080/",
          "height": 102
        },
        "outputId": "3237b8a6-501a-4c8f-98f3-d3becfb3d899"
      },
      "source": [
        "model_LSTM2"
      ],
      "execution_count": 31,
      "outputs": [
        {
          "output_type": "execute_result",
          "data": {
            "text/plain": [
              "LSTMLanguageModel(\n",
              "  (lookup): Embedding(33186, 512, padding_idx=2)\n",
              "  (lstm): LSTM(512, 1024, num_layers=3, batch_first=True, dropout=0.3)\n",
              "  (projection): Linear(in_features=1024, out_features=33186, bias=True)\n",
              ")"
            ]
          },
          "metadata": {
            "tags": []
          },
          "execution_count": 31
        }
      ]
    },
    {
      "cell_type": "code",
      "metadata": {
        "id": "q-LEVsTxgZm2",
        "colab_type": "code",
        "colab": {
          "base_uri": "https://localhost:8080/",
          "height": 34
        },
        "outputId": "f9278349-627b-4282-acf4-d1479f8be476"
      },
      "source": [
        "model_dict_LSTM3 = torch.load('LSTM_model3.pt')    \n",
        "options_LSTM3 = model_dict_LSTM3['options']\n",
        "model_LSTM3 = LSTMLanguageModel(options_LSTM3).to(current_device)\n",
        "model_LSTM3.load_state_dict(torch.load(\"LSTM_checkpoint3.pt\"))"
      ],
      "execution_count": 32,
      "outputs": [
        {
          "output_type": "execute_result",
          "data": {
            "text/plain": [
              "<All keys matched successfully>"
            ]
          },
          "metadata": {
            "tags": []
          },
          "execution_count": 32
        }
      ]
    },
    {
      "cell_type": "code",
      "metadata": {
        "id": "std13lbFSOuc",
        "colab_type": "code",
        "colab": {
          "base_uri": "https://localhost:8080/",
          "height": 102
        },
        "outputId": "9b176777-8770-40a1-b2ed-1a8242175fad"
      },
      "source": [
        "model_LSTM3"
      ],
      "execution_count": 33,
      "outputs": [
        {
          "output_type": "execute_result",
          "data": {
            "text/plain": [
              "LSTMLanguageModel(\n",
              "  (lookup): Embedding(33186, 256, padding_idx=2)\n",
              "  (lstm): LSTM(256, 256, num_layers=3, batch_first=True, dropout=0.3)\n",
              "  (projection): Linear(in_features=256, out_features=33186, bias=True)\n",
              ")"
            ]
          },
          "metadata": {
            "tags": []
          },
          "execution_count": 33
        }
      ]
    },
    {
      "cell_type": "code",
      "metadata": {
        "id": "PzxBsiwGgo6t",
        "colab_type": "code",
        "colab": {
          "base_uri": "https://localhost:8080/",
          "height": 34
        },
        "outputId": "4ac97a27-c6db-4696-ca11-196016d20a40"
      },
      "source": [
        "model_dict_LSTM4 = torch.load('LSTM_model4.pt')    \n",
        "options_LSTM4 = model_dict_LSTM4['options']\n",
        "model_LSTM4 = LSTMLanguageModel(options_LSTM4).to(current_device)\n",
        "model_LSTM4.load_state_dict(torch.load(\"LSTM_checkpoint4.pt\"))"
      ],
      "execution_count": 34,
      "outputs": [
        {
          "output_type": "execute_result",
          "data": {
            "text/plain": [
              "<All keys matched successfully>"
            ]
          },
          "metadata": {
            "tags": []
          },
          "execution_count": 34
        }
      ]
    },
    {
      "cell_type": "code",
      "metadata": {
        "id": "SV_GutwAgrbq",
        "colab_type": "code",
        "colab": {
          "base_uri": "https://localhost:8080/",
          "height": 102
        },
        "outputId": "53156b6e-7ebc-4033-c37c-573bfa19e05b"
      },
      "source": [
        "model_LSTM4"
      ],
      "execution_count": 35,
      "outputs": [
        {
          "output_type": "execute_result",
          "data": {
            "text/plain": [
              "LSTMLanguageModel(\n",
              "  (lookup): Embedding(33186, 256, padding_idx=2)\n",
              "  (lstm): LSTM(256, 1024, num_layers=3, batch_first=True, dropout=0.3)\n",
              "  (projection): Linear(in_features=1024, out_features=33186, bias=True)\n",
              ")"
            ]
          },
          "metadata": {
            "tags": []
          },
          "execution_count": 35
        }
      ]
    },
    {
      "cell_type": "code",
      "metadata": {
        "id": "YnjhvIF6gsul",
        "colab_type": "code",
        "colab": {
          "base_uri": "https://localhost:8080/",
          "height": 34
        },
        "outputId": "b40fb659-a0bd-4a99-88a6-8d061dd24509"
      },
      "source": [
        "model_dict_LSTM5 = torch.load('LSTM_model5.pt')    \n",
        "options_LSTM5 = model_dict_LSTM5['options']\n",
        "model_LSTM5 = LSTMLanguageModel(options_LSTM5).to(current_device)\n",
        "model_LSTM5.load_state_dict(torch.load(\"LSTM_checkpoint5.pt\"))"
      ],
      "execution_count": 36,
      "outputs": [
        {
          "output_type": "execute_result",
          "data": {
            "text/plain": [
              "<All keys matched successfully>"
            ]
          },
          "metadata": {
            "tags": []
          },
          "execution_count": 36
        }
      ]
    },
    {
      "cell_type": "code",
      "metadata": {
        "id": "z22z9yoegtyH",
        "colab_type": "code",
        "colab": {
          "base_uri": "https://localhost:8080/",
          "height": 102
        },
        "outputId": "11298d68-9cee-4d00-d913-9cc5ef5f4f24"
      },
      "source": [
        "model_LSTM5"
      ],
      "execution_count": 37,
      "outputs": [
        {
          "output_type": "execute_result",
          "data": {
            "text/plain": [
              "LSTMLanguageModel(\n",
              "  (lookup): Embedding(33186, 1024, padding_idx=2)\n",
              "  (lstm): LSTM(1024, 512, num_layers=3, batch_first=True, dropout=0.3)\n",
              "  (projection): Linear(in_features=512, out_features=33186, bias=True)\n",
              ")"
            ]
          },
          "metadata": {
            "tags": []
          },
          "execution_count": 37
        }
      ]
    },
    {
      "cell_type": "code",
      "metadata": {
        "id": "JW_1NVhegusI",
        "colab_type": "code",
        "colab": {}
      },
      "source": [
        ""
      ],
      "execution_count": 0,
      "outputs": []
    },
    {
      "cell_type": "markdown",
      "metadata": {
        "id": "bt6nS2EhSOue",
        "colab_type": "text"
      },
      "source": [
        "#### Results (LSTM vs. Baseline)"
      ]
    },
    {
      "cell_type": "code",
      "metadata": {
        "id": "8pjQWaPlSOue",
        "colab_type": "code",
        "colab": {}
      },
      "source": [
        "import matplotlib.pyplot as plt\n",
        "import numpy as np\n",
        "\n",
        "plot_cache_RNN = model_dict_RNN['loss_cache']\n",
        "plot_cache_LSTM1 = model_dict_LSTM1['loss_cache']\n",
        "plot_cache_LSTM2 = model_dict_LSTM2['loss_cache']\n",
        "plot_cache_LSTM3 = model_dict_LSTM3['loss_cache']\n",
        "plot_cache_LSTM4 = model_dict_LSTM4['loss_cache']\n",
        "plot_cache_LSTM5 = model_dict_LSTM5['loss_cache']"
      ],
      "execution_count": 0,
      "outputs": []
    },
    {
      "cell_type": "code",
      "metadata": {
        "id": "TH73nGL8gw_9",
        "colab_type": "code",
        "colab": {
          "base_uri": "https://localhost:8080/",
          "height": 350
        },
        "outputId": "25a6a706-e4a9-4e3d-eeb0-fa2b242e5ca7"
      },
      "source": [
        "epochs_RNN = np.array(list(range(len(plot_cache_RNN))))\n",
        "epochs_LSTM1 = np.array(list(range(len(plot_cache_LSTM1))))\n",
        "epochs_LSTM2 = np.array(list(range(len(plot_cache_LSTM2))))\n",
        "epochs_LSTM3 = np.array(list(range(len(plot_cache_LSTM3))))\n",
        "epochs_LSTM4 = np.array(list(range(len(plot_cache_LSTM4))))\n",
        "epochs_LSTM5 = np.array(list(range(len(plot_cache_LSTM5))))\n",
        "plt.figure(figsize=(10,5))\n",
        "\n",
        "\n",
        "#plt.plot(epochs_LSTM1, [i[0] for i in plot_cache_LSTM1], label='LSTM1 Train loss',linestyle='dotted')\n",
        "#plt.plot(epochs_LSTM1, [i[1] for i in plot_cache_LSTM1], label='LSTM1 Valid loss',linestyle='dotted')\n",
        "#plt.axvline(x=epochs_LSTM1[-6],label=\"LSTM1 early stopping point\",linewidth=1)\n",
        "\n",
        "\n",
        "#plt.plot(epochs_LSTM2, [i[0] for i in plot_cache_LSTM2], label='LSTM2 Train loss',linewidth=2)\n",
        "#plt.plot(epochs_LSTM2, [i[1] for i in plot_cache_LSTM2], label='LSTM2 Valid loss',linewidth=2)\n",
        "#plt.axvline(x=epochs_LSTM2[-6],label=\"LSTM2 early stopping point\",linewidth=1,color=\"r\")\n",
        "\n",
        "plt.plot(epochs_LSTM3, [i[0] for i in plot_cache_LSTM3], label='LSTM3 Train loss',linewidth=2)\n",
        "plt.plot(epochs_LSTM3, [i[1] for i in plot_cache_LSTM3], label='LSTM3 Valid loss',linewidth=2)\n",
        "plt.axvline(x=epochs_LSTM3[-6],label=\"LSTM3 early stopping point\",linewidth=1,color=\"m\")\n",
        "\n",
        "\n",
        "plt.axvline(x=epochs_RNN[-6],label=\"RNN early stopping point\",color=\"g\",linestyle=\"--\",linewidth=1)\n",
        "plt.plot(epochs_RNN, [i[0] for i in plot_cache_RNN], label='RNN(baseline) Train loss',linestyle=\"--\")\n",
        "plt.plot(epochs_RNN, [i[1] for i in plot_cache_RNN], label='RNN(baseline) Valid loss',linestyle=\"--\")\n",
        "\n",
        "plt.title(\"Baseline VS. LSTM\")\n",
        "plt.xlabel(\"epochs\")\n",
        "plt.ylabel(\"loss\")\n",
        "plt.legend()\n",
        "plt.show()"
      ],
      "execution_count": 39,
      "outputs": [
        {
          "output_type": "display_data",
          "data": {
            "image/png": "[encoded data removed]",
            "text/plain": [
              "<Figure size 720x360 with 1 Axes>"
            ]
          },
          "metadata": {
            "tags": []
          }
        }
      ]
    },
    {
      "cell_type": "code",
      "metadata": {
        "id": "eNPrrbp7g3vG",
        "colab_type": "code",
        "colab": {
          "base_uri": "https://localhost:8080/",
          "height": 119
        },
        "outputId": "cf597a38-78a7-4d13-b72c-f9a5c53768b2"
      },
      "source": [
        "print(\"Perplexity for RNN baseline is\",[2**(i[1]/np.log(2)) for i in plot_cache_RNN][-6])\n",
        "print(\"Perplexity for LSTM1 is\",[2**(i[1]/np.log(2)) for i in plot_cache_LSTM1][-6])\n",
        "print(\"Perplexity for LSTM2 is\",[2**(i[1]/np.log(2)) for i in plot_cache_LSTM2][-6])\n",
        "print(\"Perplexity for LSTM3 is\",[2**(i[1]/np.log(2)) for i in plot_cache_LSTM3][-6])\n",
        "print(\"Perplexity for LSTM4 is\",[2**(i[1]/np.log(2)) for i in plot_cache_LSTM4][-6])\n",
        "print(\"Perplexity for LSTM5 is\",[2**(i[1]/np.log(2)) for i in plot_cache_LSTM5][-6])"
      ],
      "execution_count": 40,
      "outputs": [
        {
          "output_type": "stream",
          "text": [
            "Perplexity for RNN baseline is 250.64625058797918\n",
            "Perplexity for LSTM1 is 161.6276941957559\n",
            "Perplexity for LSTM2 is 154.94733051084611\n",
            "Perplexity for LSTM3 is 151.1431343689896\n",
            "Perplexity for LSTM4 is 157.07173475197726\n",
            "Perplexity for LSTM5 is 166.60247971385368\n"
          ],
          "name": "stdout"
        }
      ]
    },
    {
      "cell_type": "markdown",
      "metadata": {
        "id": "dHeGRuiXSOug",
        "colab_type": "text"
      },
      "source": [
        "#### Performance Variation Based on Hyperparameter Values"
      ]
    },
    {
      "cell_type": "code",
      "metadata": {
        "id": "PrMmFwARSOug",
        "colab_type": "code",
        "colab": {
          "base_uri": "https://localhost:8080/",
          "height": 554
        },
        "outputId": "a96b953d-0092-4efc-a87e-c530539a8f5a"
      },
      "source": [
        "fig, (ax1, ax2) = plt.subplots(1, 2,sharey=True,figsize=(20,8))\n",
        "fig.suptitle('LSTM models')\n",
        "\n",
        "epochs_LSTM1 = np.array(list(range(len(plot_cache_LSTM1))))\n",
        "epochs_LSTM2 = np.array(list(range(len(plot_cache_LSTM2))))\n",
        "epochs_LSTM3 = np.array(list(range(len(plot_cache_LSTM3))))\n",
        "epochs_LSTM4 = np.array(list(range(len(plot_cache_LSTM4))))\n",
        "epochs_LSTM5 = np.array(list(range(len(plot_cache_LSTM5))))\n",
        "\n",
        "ax1.plot(epochs_LSTM1, [i[0] for i in plot_cache_LSTM1], label='LSTM1 Train loss',linestyle=\"--\")\n",
        "ax2.plot(epochs_LSTM1, [i[1] for i in plot_cache_LSTM1], label='LSTM1 Valid loss',linestyle=\"--\")\n",
        "ax1.plot(epochs_LSTM1[-6],plot_cache_LSTM1[-6][0], marker='o', markersize=5)\n",
        "ax2.plot(epochs_LSTM1[-6],plot_cache_LSTM1[-6][1], marker='o', markersize=5)\n",
        "\n",
        "ax1.plot(epochs_LSTM2, [i[0] for i in plot_cache_LSTM2], label='LSTM2 Train loss')\n",
        "ax2.plot(epochs_LSTM2, [i[1] for i in plot_cache_LSTM2], label='LSTM2 Valid loss')\n",
        "ax1.plot(epochs_LSTM2[-6],plot_cache_LSTM2[-6][0], marker='o', markersize=5)\n",
        "ax2.plot(epochs_LSTM2[-6],plot_cache_LSTM2[-6][1], marker='o', markersize=5)\n",
        "\n",
        "ax1.plot(epochs_LSTM3, [i[0] for i in plot_cache_LSTM3], label='LSTM3 Train loss')\n",
        "ax2.plot(epochs_LSTM3, [i[1] for i in plot_cache_LSTM3], label='LSTM3 Valid loss')\n",
        "ax1.plot(epochs_LSTM3[-6],plot_cache_LSTM3[-6][0], marker='o', markersize=5)\n",
        "ax2.plot(epochs_LSTM3[-6],plot_cache_LSTM3[-6][1], marker='o', markersize=5)\n",
        "\n",
        "ax1.plot(epochs_LSTM4, [i[0] for i in plot_cache_LSTM4], label='LSTM4 Train loss')\n",
        "ax2.plot(epochs_LSTM4, [i[1] for i in plot_cache_LSTM4], label='LSTM4 Valid loss')\n",
        "ax1.plot(epochs_LSTM4[-6],plot_cache_LSTM4[-6][0], marker='o', markersize=5)\n",
        "ax2.plot(epochs_LSTM4[-6],plot_cache_LSTM4[-6][1], marker='o', markersize=5)\n",
        "\n",
        "ax1.plot(epochs_LSTM5, [i[0] for i in plot_cache_LSTM5], label='LSTM5 Train loss')\n",
        "ax2.plot(epochs_LSTM5, [i[1] for i in plot_cache_LSTM5], label='LSTM5 Valid loss')\n",
        "ax1.plot(epochs_LSTM5[-6],plot_cache_LSTM5[-6][0], marker='o', markersize=5)\n",
        "ax2.plot(epochs_LSTM5[-6],plot_cache_LSTM5[-6][1], marker='o', markersize=5)\n",
        "\n",
        "ax1.set_title(\"train loss comparison\")\n",
        "ax2.set_title(\"valid loss comparison\")\n",
        "ax1.set_xlabel(\"epochs\")\n",
        "ax2.set_xlabel(\"epochs\")\n",
        "ax1.set_ylabel(\"loss\")\n",
        "ax2.set_ylabel(\"loss\")\n",
        "ax1.legend()\n",
        "ax2.legend()\n",
        "fig.show()"
      ],
      "execution_count": 41,
      "outputs": [
        {
          "output_type": "display_data",
          "data": {
            "image/png": "[encoded data removed]",
            "text/plain": [
              "<Figure size 1440x576 with 2 Axes>"
            ]
          },
          "metadata": {
            "tags": []
          }
        }
      ]
    },
    {
      "cell_type": "code",
      "metadata": {
        "id": "1KAC8kSUg7OB",
        "colab_type": "code",
        "colab": {}
      },
      "source": [
        ""
      ],
      "execution_count": 0,
      "outputs": []
    },
    {
      "cell_type": "markdown",
      "metadata": {
        "id": "AeRgFQFqg8i8",
        "colab_type": "text"
      },
      "source": [
        "Discussion of result: as we can see, the baseline RNN model has the worst perplexity, which can be due to vanishing/exploding gradient problems that RNN is very vulnerable to. On the other hand, our largest LSTM model took the least epochs to reach to approxmiately 155 perplexity, though our smaller model reached to a lower perplexity, of 151, after 80+ epochs."
      ]
    },
    {
      "cell_type": "markdown",
      "metadata": {
        "id": "OImlvnXfSOui",
        "colab_type": "text"
      },
      "source": [
        "### II.2 Learned Embeddings"
      ]
    },
    {
      "cell_type": "code",
      "metadata": {
        "id": "IwTB1ucIhQYr",
        "colab_type": "code",
        "colab": {
          "base_uri": "https://localhost:8080/",
          "height": 136
        },
        "outputId": "e42bf395-d83c-4d1e-c1a8-8c53dea98993"
      },
      "source": [
        "!pip install umap-learn"
      ],
      "execution_count": 42,
      "outputs": [
        {
          "output_type": "stream",
          "text": [
            "Requirement already satisfied: umap-learn in /usr/local/lib/python3.6/dist-packages (0.3.10)\n",
            "Requirement already satisfied: scipy>=0.19 in /usr/local/lib/python3.6/dist-packages (from umap-learn) (1.3.1)\n",
            "Requirement already satisfied: numpy>=1.13 in /usr/local/lib/python3.6/dist-packages (from umap-learn) (1.16.5)\n",
            "Requirement already satisfied: scikit-learn>=0.16 in /usr/local/lib/python3.6/dist-packages (from umap-learn) (0.21.3)\n",
            "Requirement already satisfied: numba>=0.37 in /usr/local/lib/python3.6/dist-packages (from umap-learn) (0.40.1)\n",
            "Requirement already satisfied: joblib>=0.11 in /usr/local/lib/python3.6/dist-packages (from scikit-learn>=0.16->umap-learn) (0.13.2)\n",
            "Requirement already satisfied: llvmlite>=0.25.0dev0 in /usr/local/lib/python3.6/dist-packages (from numba>=0.37->umap-learn) (0.29.0)\n"
          ],
          "name": "stdout"
        }
      ]
    },
    {
      "cell_type": "markdown",
      "metadata": {
        "id": "1ElBhtvRSOuj",
        "colab_type": "text"
      },
      "source": [
        "#### Utilities\n",
        "\n",
        "Below is code to use [UMAP](https://umap-learn.readthedocs.io/en/latest/) to find a 2-dimensional representation of a weight matrix, and plot the resulting 2-dimensional points that correspond to certain words.\n",
        "\n",
        "Use `!pip install umap-learn` to install UMAP."
      ]
    },
    {
      "cell_type": "code",
      "metadata": {
        "id": "dhWTG1ZiSOuj",
        "colab_type": "code",
        "colab": {
          "base_uri": "https://localhost:8080/",
          "height": 34
        },
        "outputId": "230dea20-a2f5-4094-bc48-e6062bf66cae"
      },
      "source": [
        "%pylab inline \n",
        "import umap\n",
        "import matplotlib.pyplot as plt\n",
        "\n",
        "def umap_plot(weight_matrix, word_ids, words):\n",
        "    \"\"\"Run UMAP on the entire Vxd `weight_matrix` (e.g. model.lookup.weight or model.projection.weight),\n",
        "    And plot the points corresponding to the given `word_ids`. \"\"\"\n",
        "    reduced = umap.UMAP(min_dist=0.0001).fit_transform(weight_matrix.detach().cpu().numpy())\n",
        "    plt.figure(figsize=(20,20))\n",
        "\n",
        "    to_plot = reduced[word_ids, :]\n",
        "    plt.scatter(to_plot[:, 0], to_plot[:, 1])\n",
        "    for i, word_id in enumerate(word_ids):\n",
        "        current_point = to_plot[i]\n",
        "        plt.annotate(words[i], (current_point[0], current_point[1]))\n",
        "\n",
        "    plt.grid()\n",
        "    plt.show()"
      ],
      "execution_count": 43,
      "outputs": [
        {
          "output_type": "stream",
          "text": [
            "Populating the interactive namespace from numpy and matplotlib\n"
          ],
          "name": "stdout"
        }
      ]
    },
    {
      "cell_type": "markdown",
      "metadata": {
        "id": "BDQcmjfdSOun",
        "colab_type": "text"
      },
      "source": [
        "#### II.2.1 Word Similarity"
      ]
    },
    {
      "cell_type": "code",
      "metadata": {
        "id": "jH99zn_thda7",
        "colab_type": "code",
        "colab": {
          "base_uri": "https://localhost:8080/",
          "height": 34
        },
        "outputId": "76222f1c-19c4-45f0-f53a-9847e69af0c9"
      },
      "source": [
        "weight_matrix_lookup = model_LSTM3.lookup.weight\n",
        "\n",
        "word_list = [\"Japan\",\"man\",\"speak\",\"basketball\",\"happy\"]\n",
        "word_list_id = [wikitext_dict.get_id(word) for word in word_list]\n",
        "word_list_id"
      ],
      "execution_count": 44,
      "outputs": [
        {
          "output_type": "execute_result",
          "data": {
            "text/plain": [
              "[18, 3540, 7693, 9981, 4233]"
            ]
          },
          "metadata": {
            "tags": []
          },
          "execution_count": 44
        }
      ]
    },
    {
      "cell_type": "code",
      "metadata": {
        "id": "QN58gcLjSOuo",
        "colab_type": "code",
        "colab": {
          "base_uri": "https://localhost:8080/",
          "height": 34
        },
        "outputId": "00215772-dd38-481a-ab9b-f0e3cf3331e4"
      },
      "source": [
        "def cosine_similarity(x1, x2, dim=0, eps=1e-8):\n",
        "    w12 = torch.sum(x1 * x2, dim)\n",
        "    w1 = torch.norm(x1, 2, dim)\n",
        "    w2 = torch.norm(x2, 2, dim)\n",
        "    return (w12 / (w1 * w2).clamp(min=eps)).squeeze()\n",
        "\n",
        "cosine_similarity(torch.rand(3,1),torch.rand(3,1))"
      ],
      "execution_count": 45,
      "outputs": [
        {
          "output_type": "execute_result",
          "data": {
            "text/plain": [
              "tensor(0.9378)"
            ]
          },
          "metadata": {
            "tags": []
          },
          "execution_count": 45
        }
      ]
    },
    {
      "cell_type": "code",
      "metadata": {
        "id": "A00zB_PAhZLw",
        "colab_type": "code",
        "colab": {}
      },
      "source": [
        "closest_dict_lookup = {}\n",
        "farthest_dict_lookup = {}\n",
        "\n",
        "lsts_lookup = {}\n",
        "\n",
        "for word in word_list:\n",
        "    lst_lookup = []\n",
        "    word_id = wikitext_dict.get_id(word)\n",
        "    for i in range(weight_matrix_lookup.size(0)):\n",
        "        if i not in [2,word_id]:\n",
        "            cos_sim = cosine_similarity(weight_matrix_lookup[word_id],weight_matrix_lookup[i])\n",
        "            lst_lookup.append((cos_sim.item(),i))\n",
        "    lst_lookup = sorted(lst_lookup, key=lambda x: x[0], reverse=True)\n",
        "    lsts_lookup[word] = lst_lookup\n",
        "    closest_dict_lookup[word] = [l[1] for l in lst_lookup[:10]]\n",
        "    farthest_dict_lookup[word] = [l[1] for l in lst_lookup[-10:]]"
      ],
      "execution_count": 0,
      "outputs": []
    },
    {
      "cell_type": "code",
      "metadata": {
        "id": "mz3-19QChszh",
        "colab_type": "code",
        "colab": {
          "base_uri": "https://localhost:8080/",
          "height": 612
        },
        "outputId": "e8d65e97-82d8-4be3-8215-ed81fa1cc4fb"
      },
      "source": [
        "for word in word_list:\n",
        "    print(\"the closest 10 for\", word, \":\", [wikitext_dict.get_token(i) for i in closest_dict_lookup[word]])\n",
        "    print(\"the farthest 10 for\", word, \":\",[wikitext_dict.get_token(i) for i in farthest_dict_lookup[word]])\n",
        "    print(\"highest cosine similarity:\", lsts_lookup[word][0][0], \"word:\", wikitext_dict.get_token(lsts_lookup[word][0][1]))\n",
        "    print(\"lowest cosine similarity:\", lsts_lookup[word][-1][0], \"word:\", wikitext_dict.get_token(lsts_lookup[word][-1][1]))\n",
        "    print(\"\\n\\n\")"
      ],
      "execution_count": 47,
      "outputs": [
        {
          "output_type": "stream",
          "text": [
            "the closest 10 for Japan : ['boarding', 'ruinous', 'Selenites', 'masked', 'drawbacks', 'ourebi', '322', 'Waterfall', 'Management', 'WWII']\n",
            "the farthest 10 for Japan : ['modeled', 'Radford', 'TOT', 'Kelly', 'hence', 'Gift', 'fixed', 'Sudan', 'northwest', 'Rihanna']\n",
            "highest cosine similarity: 0.240296870470047 word: boarding\n",
            "lowest cosine similarity: -0.2686678171157837 word: Rihanna\n",
            "\n",
            "\n",
            "\n",
            "the closest 10 for man : ['Ouranosaurus', 'plectrum', 'is', 'swing', 'astray', 'powerfully', 'holder', 'harvest', 'culminated', 'Berio']\n",
            "the farthest 10 for man : ['Die', 'miner', 'rub', 'aiding', 'freely', 'mills', 'Township', 'campaigns', 'Wanna', 'pond']\n",
            "highest cosine similarity: 0.23912107944488525 word: Ouranosaurus\n",
            "lowest cosine similarity: -0.2459438443183899 word: pond\n",
            "\n",
            "\n",
            "\n",
            "the closest 10 for speak : ['conscious', 'displayed', 'arguably', 'Crusade', 'Beach', 'income', 'biographers', 'Tel', 'rookie', 'Singaporean']\n",
            "the farthest 10 for speak : ['16', 'ticking', 'infatuation', 'dismemberment', 'Additional', 'travels', 'TNA', 'overlapped', 'Dunder', 'inhabitants']\n",
            "highest cosine similarity: 0.2666110098361969 word: conscious\n",
            "lowest cosine similarity: -0.2475689798593521 word: inhabitants\n",
            "\n",
            "\n",
            "\n",
            "the closest 10 for basketball : ['bearings', 'Augusto', 'inventor', 'consequent', 'Additional', 'Koss', 'Yingzao', 'wreckage', 'ability', 'Underground']\n",
            "the farthest 10 for basketball : ['Jewell', 'Geffen', 'Kurdish', 'skull', 'Picasso', 'granite', 'Fantasia', 'domesticity', 'Base', 'incursion']\n",
            "highest cosine similarity: 0.2951083481311798 word: bearings\n",
            "lowest cosine similarity: -0.25059062242507935 word: incursion\n",
            "\n",
            "\n",
            "\n",
            "the closest 10 for happy : ['gunpowder', 'governor', 'cadres', 'Albans', 'cults', 'Torchwood', 'haven', 'Heinz', 'violate', 'retaliation']\n",
            "the farthest 10 for happy : ['Lanka', 'verses', 'unexpectedly', 'glorious', 'apathy', 'Hildreth', 'version', 'pinch', 'Roland', '125th']\n",
            "highest cosine similarity: 0.24793459475040436 word: gunpowder\n",
            "lowest cosine similarity: -0.25024881958961487 word: 125th\n",
            "\n",
            "\n",
            "\n"
          ],
          "name": "stdout"
        }
      ]
    },
    {
      "cell_type": "markdown",
      "metadata": {
        "id": "0T9leHh7SOup",
        "colab_type": "text"
      },
      "source": [
        "#### II.2.2 Embedding Layer"
      ]
    },
    {
      "cell_type": "code",
      "metadata": {
        "id": "lzD66Om5hukp",
        "colab_type": "code",
        "colab": {}
      },
      "source": [
        "total_idx_lookup = [closest_dict_lookup[w] for w in word_list] + [farthest_dict_lookup[w] for w in word_list]\n",
        "import itertools\n",
        "total_idx_lookup = list(itertools.chain(*total_idx_lookup))\n",
        "total_words_lookup = word_list + [wikitext_dict.get_token(i) for i in total_idx_lookup]\n",
        "total_idx_lookup = [wikitext_dict.get_id(w) for w in word_list] + total_idx_lookup"
      ],
      "execution_count": 0,
      "outputs": []
    },
    {
      "cell_type": "code",
      "metadata": {
        "id": "GsrIJ14EhvnG",
        "colab_type": "code",
        "colab": {
          "base_uri": "https://localhost:8080/",
          "height": 1000
        },
        "outputId": "4bccc6b9-1788-4d69-c257-9066cdc1ca15"
      },
      "source": [
        "umap_plot(weight_matrix_lookup, total_idx_lookup, total_words_lookup)"
      ],
      "execution_count": 49,
      "outputs": [
        {
          "output_type": "display_data",
          "data": {
            "image/png": "[encoded data removed]",
            "text/plain": [
              "<Figure size 1440x1440 with 1 Axes>"
            ]
          },
          "metadata": {
            "tags": []
          }
        }
      ]
    },
    {
      "cell_type": "code",
      "metadata": {
        "id": "qefvqUSfSOuq",
        "colab_type": "code",
        "colab": {}
      },
      "source": [
        ""
      ],
      "execution_count": 0,
      "outputs": []
    },
    {
      "cell_type": "markdown",
      "metadata": {
        "id": "f7Vi2cAJSOus",
        "colab_type": "text"
      },
      "source": [
        "#### II.2.3 Projection Layer"
      ]
    },
    {
      "cell_type": "code",
      "metadata": {
        "id": "PJ4Tb63xSOus",
        "colab_type": "code",
        "colab": {}
      },
      "source": [
        "weight_matrix_projection = model_LSTM3.projection.weight"
      ],
      "execution_count": 0,
      "outputs": []
    },
    {
      "cell_type": "code",
      "metadata": {
        "id": "i4L82neNh8Qf",
        "colab_type": "code",
        "colab": {}
      },
      "source": [
        "closest_dict_projection = {}\n",
        "farthest_dict_projection = {}\n",
        "\n",
        "lsts_projection = {}\n",
        "\n",
        "for word in word_list:\n",
        "    lst_projection = []\n",
        "    word_id = wikitext_dict.get_id(word)\n",
        "    for i in range(weight_matrix_projection.size(0)):\n",
        "        if i not in [2,word_id]:\n",
        "            cos_sim = cosine_similarity(weight_matrix_projection[word_id],weight_matrix_projection[i])\n",
        "            lst_projection.append((cos_sim.item(),i))\n",
        "        lst_projection = sorted(lst_projection, key=lambda x: x[0], reverse=True)\n",
        "        lsts_projection[word] = lst_projection\n",
        "        closest_dict_projection[word] = [l[1] for l in lst_projection[:10]]\n",
        "        farthest_dict_projection[word] = [l[1] for l in lst_projection[-10:]]"
      ],
      "execution_count": 0,
      "outputs": []
    },
    {
      "cell_type": "code",
      "metadata": {
        "id": "FxTZIawCh9sa",
        "colab_type": "code",
        "colab": {
          "base_uri": "https://localhost:8080/",
          "height": 612
        },
        "outputId": "e60592a5-10ad-4437-b821-59613e1c5e14"
      },
      "source": [
        "for word in word_list:\n",
        "  print(\"the closest 10 for\", word, \":\", [wikitext_dict.get_token(i) for i in closest_dict_projection[word]])\n",
        "  print(\"the farthest 10 for\", word, \":\",[wikitext_dict.get_token(i) for i in farthest_dict_projection[word]])\n",
        "  print(\"highest cosine similarity:\", lsts_projection[word][0][0], \"word:\", wikitext_dict.get_token(lsts_projection[word][0][1]))\n",
        "  print(\"lowest cosine similarity:\", lsts_projection[word][-1][0], \"word:\", wikitext_dict.get_token(lsts_projection[word][-1][1]))\n",
        "  print(\"\\n\\n\")"
      ],
      "execution_count": 52,
      "outputs": [
        {
          "output_type": "stream",
          "text": [
            "the closest 10 for Japan : ['Belgium', 'Canada', 'Germany', 'Asia', 'Switzerland', 'Australia', 'Europe', 'Sweden', 'India', 'Austria']\n",
            "the farthest 10 for Japan : ['grave', 'dimer', 'informant', 'notched', 'victim', 'girl', 'trained', 'drugged', 'palisade', 'calf']\n",
            "highest cosine similarity: 0.6824302673339844 word: Belgium\n",
            "lowest cosine similarity: -0.4035908281803131 word: calf\n",
            "\n",
            "\n",
            "\n",
            "the closest 10 for man : ['woman', 'person', 'girl', 'figure', 'human', 'warrior', 'baby', 'child', 'soldier', 'male']\n",
            "the farthest 10 for man : ['Silverside', 'Avenue', 'Rico', '1K', 'demolished', 'Pauline', 'redesignated', 'dissipated', 'deposited', 'reconstructed']\n",
            "highest cosine similarity: 0.6418400406837463 word: woman\n",
            "lowest cosine similarity: -0.3179444670677185 word: reconstructed\n",
            "\n",
            "\n",
            "\n",
            "the closest 10 for speak : ['accept', 'prove', 'learn', 'consider', 'agree', 'respond', 'tell', 'believe', 'meet', 'recognize']\n",
            "the farthest 10 for speak : ['Main', 'Clair', 'Pipe', 'Cross', 'Byron', 'Huron', 'Lesser', 'Ferry', 'Champlain', 'Highway']\n",
            "highest cosine similarity: 0.8170437812805176 word: accept\n",
            "lowest cosine similarity: -0.5015102624893188 word: Highway\n",
            "\n",
            "\n",
            "\n",
            "the closest 10 for basketball : ['baseball', 'tennis', 'hockey', 'football', 'boxer', 'Pro', 'championship', 'wheelchair', 'SNL', 'championships']\n",
            "the farthest 10 for basketball : ['infest', 'suggest', 'identified', 'selectively', 'differs', 'commemorates', 'exhaled', 'bind', 'belong', 'readily']\n",
            "highest cosine similarity: 0.6312093138694763 word: baseball\n",
            "lowest cosine similarity: -0.45245155692100525 word: readily\n",
            "\n",
            "\n",
            "\n",
            "the closest 10 for happy : ['crazy', 'proud', 'funny', 'sure', 'nice', 'afraid', 'sad', 'tired', 'excited', 'pretty']\n",
            "the farthest 10 for happy : ['Raton', 'Railway', 'Parkway', 'Colony', 'Mayo', 'Railroad', 'steamboats', 'Palm', 'Engineers', 'Transport']\n",
            "highest cosine similarity: 0.7521223425865173 word: crazy\n",
            "lowest cosine similarity: -0.5711284279823303 word: Transport\n",
            "\n",
            "\n",
            "\n"
          ],
          "name": "stdout"
        }
      ]
    },
    {
      "cell_type": "code",
      "metadata": {
        "id": "qFOgo5wTiBRk",
        "colab_type": "code",
        "colab": {}
      },
      "source": [
        "total_idx_projection = [closest_dict_projection[w] for w in word_list] + [farthest_dict_projection[w] for w in word_list]\n",
        "import itertools\n",
        "total_idx_projection = list(itertools.chain(*total_idx_projection))\n",
        "total_words_projection = word_list + [wikitext_dict.get_token(i) for i in total_idx_projection]\n",
        "total_idx_projection = [wikitext_dict.get_id(w) for w in word_list] + total_idx_projection"
      ],
      "execution_count": 0,
      "outputs": []
    },
    {
      "cell_type": "code",
      "metadata": {
        "id": "trvIgGaWiC4k",
        "colab_type": "code",
        "colab": {
          "base_uri": "https://localhost:8080/",
          "height": 1000
        },
        "outputId": "15915b51-de9a-4a2d-8902-3f9dc2d98efd"
      },
      "source": [
        "umap_plot(weight_matrix_projection, total_idx_projection, total_words_projection)"
      ],
      "execution_count": 54,
      "outputs": [
        {
          "output_type": "stream",
          "text": [
            "/usr/local/lib/python3.6/dist-packages/umap/spectral.py:229: UserWarning: Embedding a total of 2 separate connected components using meta-embedding (experimental)\n",
            "  n_components\n"
          ],
          "name": "stderr"
        },
        {
          "output_type": "display_data",
          "data": {
            "image/png": "[encoded data removed]",
            "text/plain": [
              "<Figure size 1440x1440 with 1 Axes>"
            ]
          },
          "metadata": {
            "tags": []
          }
        }
      ]
    },
    {
      "cell_type": "markdown",
      "metadata": {
        "id": "xkV9I_ouSOuv",
        "colab_type": "text"
      },
      "source": [
        "As we can see, the projection layer learned the word vectors better than the lookup layer so that we formed 5 clusters for our 5 words. On the other hand, the lookup layer plot does not have any clusters and all word vectors are just loosely plotted. "
      ]
    },
    {
      "cell_type": "markdown",
      "metadata": {
        "id": "UQuhy9KVSOuw",
        "colab_type": "text"
      },
      "source": [
        "### II.3 Scoring"
      ]
    },
    {
      "cell_type": "code",
      "metadata": {
        "id": "3Y4Se8j8SOux",
        "colab_type": "code",
        "colab": {
          "base_uri": "https://localhost:8080/",
          "height": 34
        },
        "outputId": "7881dccf-1a29-430d-fe46-ab7f7e0b8ec5"
      },
      "source": [
        "def get_prob_of_sequence(seq, token = \"<eos>\"):\n",
        "    inp = wikitext_dict.encode_token_seq(seq.split(' '))\n",
        "    target = inp[1:] + [wikitext_dict.get_id(token)]\n",
        "    \n",
        "    with torch.no_grad():\n",
        "        model_LSTM3.eval()\n",
        "        logits = model_LSTM3(torch.tensor([inp], dtype=torch.long).to(current_device))\n",
        "    #print(logits.shape) \n",
        "    T = len(inp)\n",
        "    ans = 0\n",
        "    for i in range(T):\n",
        "        tokid = target[i]\n",
        "        prob_distr = torch.softmax(logits[0,i], dim=-1)\n",
        "        prob_distr = prob_distr.cpu()\n",
        "        ans += np.log(prob_distr[tokid]).item()\n",
        "    return ans\n",
        "\n",
        "seq = \"<bos> i have a cat\"\n",
        "get_prob_of_sequence(seq)"
      ],
      "execution_count": 56,
      "outputs": [
        {
          "output_type": "execute_result",
          "data": {
            "text/plain": [
              "-38.79034924507141"
            ]
          },
          "metadata": {
            "tags": []
          },
          "execution_count": 56
        }
      ]
    },
    {
      "cell_type": "code",
      "metadata": {
        "id": "BNQzbKt6lg4L",
        "colab_type": "code",
        "colab": {}
      },
      "source": [
        "import torch\n",
        "from torch.utils.data import Dataset, RandomSampler, SequentialSampler, DataLoader\n",
        "\n",
        "class TensoredDataset(Dataset):\n",
        "    def __init__(self, list_of_lists_of_tokens):\n",
        "        self.input_tensors = []\n",
        "        self.target_tensors = []\n",
        "        \n",
        "        for sample in list_of_lists_of_tokens:\n",
        "            self.input_tensors.append(torch.tensor([sample[:-1]], dtype=torch.long))\n",
        "            self.target_tensors.append(torch.tensor([sample[1:]], dtype=torch.long))\n",
        "    \n",
        "    def __len__(self):\n",
        "        return len(self.input_tensors)\n",
        "    \n",
        "    def __getitem__(self, idx):\n",
        "        # return a (input, target) tuple\n",
        "        return (self.input_tensors[idx], self.target_tensors[idx])"
      ],
      "execution_count": 0,
      "outputs": []
    },
    {
      "cell_type": "code",
      "metadata": {
        "id": "j_7ew0NpliEo",
        "colab_type": "code",
        "colab": {
          "base_uri": "https://localhost:8080/",
          "height": 68
        },
        "outputId": "494a8b64-3560-4d65-a729-beb694dcc55e"
      },
      "source": [
        "wikitext_tokenized_datasets = tokenize_dataset(datasets, wikitext_dict)\n",
        "wikitext_tensor_dataset = {}\n",
        "\n",
        "for split, listoflists in wikitext_tokenized_datasets.items():\n",
        "    wikitext_tensor_dataset[split] = TensoredDataset(listoflists)"
      ],
      "execution_count": 58,
      "outputs": [
        {
          "output_type": "stream",
          "text": [
            "100%|██████████| 78274/78274 [00:00<00:00, 115058.67it/s]\n",
            "100%|██████████| 8464/8464 [00:00<00:00, 101209.62it/s]\n",
            "100%|██████████| 9708/9708 [00:00<00:00, 126023.06it/s]\n"
          ],
          "name": "stderr"
        }
      ]
    },
    {
      "cell_type": "code",
      "metadata": {
        "id": "VkaBCqVOljeA",
        "colab_type": "code",
        "colab": {}
      },
      "source": [
        ""
      ],
      "execution_count": 0,
      "outputs": []
    },
    {
      "cell_type": "markdown",
      "metadata": {
        "id": "zeEYMsGeSOuz",
        "colab_type": "text"
      },
      "source": [
        "#### II.3.2 Highest and Lowest scoring sequences"
      ]
    },
    {
      "cell_type": "code",
      "metadata": {
        "id": "tGVN2_JjSOu0",
        "colab_type": "code",
        "colab": {}
      },
      "source": [
        "lst = []\n",
        "for i,(k,v) in enumerate(wikitext_tensor_dataset[\"valid\"]):\n",
        "    seq = [wikitext_dict.get_token(int(j)) for w in wikitext_tensor_dataset[\"valid\"][i][0] for j in w]\n",
        "    seq = \" \".join(seq)\n",
        "    lst.append(get_prob_of_sequence(seq))\n",
        "    \n",
        "lst = [i for i in sorted(enumerate(lst), key=lambda x:x[1])]"
      ],
      "execution_count": 0,
      "outputs": []
    },
    {
      "cell_type": "code",
      "metadata": {
        "id": "Q8nWUd63loaB",
        "colab_type": "code",
        "colab": {
          "base_uri": "https://localhost:8080/",
          "height": 527
        },
        "outputId": "9750945a-797b-45b2-f03d-df2f9a42ad25"
      },
      "source": [
        "lowest_idx = [l[0] for l in lst[:10]]\n",
        "lowest_scores = [l[1] for l in lst[:10]]\n",
        "highest_idx = [l[0] for l in lst[-10:]]\n",
        "highest_scores = [l[1] for l in lst[-10:]]\n",
        "\n",
        "for i in range(len(highest_idx)):\n",
        "    idx = highest_idx[i]\n",
        "    score = highest_scores[i]\n",
        "    seq = [wikitext_dict.get_token(int(j)) for w in wikitext_tensor_dataset[\"valid\"][idx][0] for j in w]\n",
        "    seq += [\"<eos>\"]\n",
        "    print(\"Score:\",score,\":\", \" \".join(seq))\n",
        "    print(\"\\n\")"
      ],
      "execution_count": 60,
      "outputs": [
        {
          "output_type": "stream",
          "text": [
            "Score: -25.88153829239309 : <bos> unk> in the second half of the 7th century . <eos>\n",
            "\n",
            "\n",
            "Score: -24.938876540167257 : <bos> It originally aired on NBC on April 14 , 2011 . <eos>\n",
            "\n",
            "\n",
            "Score: -24.72292283922434 : <bos> = = Return to New Zealand = = <eos>\n",
            "\n",
            "\n",
            "Score: -24.444126080255955 : <bos> = = = Raid of <unk> = = = <eos>\n",
            "\n",
            "\n",
            "Score: -24.071653955616057 : <bos> = = = Hit list = = = <eos>\n",
            "\n",
            "\n",
            "Score: -23.902910328935832 : <bos> = = = Army returns = = = <eos>\n",
            "\n",
            "\n",
            "Score: -23.63465335732326 : <bos> = = = Scientology sources = = = <eos>\n",
            "\n",
            "\n",
            "Score: -19.7821538541466 : <bos> = = Post @-@ war period = = <eos>\n",
            "\n",
            "\n",
            "Score: -14.87409838475287 : <bos> = = Post @-@ war career = = <eos>\n",
            "\n",
            "\n",
            "Score: -14.719887474551797 : <bos> = = Early life and education = = <eos>\n",
            "\n",
            "\n"
          ],
          "name": "stdout"
        }
      ]
    },
    {
      "cell_type": "code",
      "metadata": {
        "id": "XJ0VWuLllo7c",
        "colab_type": "code",
        "colab": {
          "base_uri": "https://localhost:8080/",
          "height": 547
        },
        "outputId": "458388e6-3253-4d4b-f1d7-9221c4a3efe1"
      },
      "source": [
        "for i in range(len(lowest_idx)):\n",
        "    idx = lowest_idx[i]\n",
        "    score = lowest_scores[i]\n",
        "    seq = [wikitext_dict.get_token(int(j)) for w in wikitext_tensor_dataset[\"valid\"][idx][0] for j in w]\n",
        "    seq += [\"<eos>\"]\n",
        "    print(\"Score:\",score,\":\", \" \".join(seq))\n",
        "    print(\"\\n\")"
      ],
      "execution_count": 61,
      "outputs": [
        {
          "output_type": "stream",
          "text": [
            "Score: -547.0097724173684 : <bos> To further justify its stance , the German government has also pointed to the long history of U.S. court cases involving Scientology , including the conviction of 11 top Scientologists in 1979 and 1980 for a conspiracy involving the infiltration of U.S. government agencies , <unk> and the theft of government documents , a 1994 U.S. Supreme Court finding that Scientology practices took place in a \" <unk> environment \" , and Scientology 's track record of pursuing its critics through malicious court cases and private investigators . <eos>\n",
            "\n",
            "\n",
            "Score: -518.402462100843 : <bos> Two rival communist @-@ backed black nationalist groups initiated military campaigns to overthrow the government and introduce majority rule : the Chinese @-@ aligned Zimbabwe African National Union ( <unk> ) , mostly comprising <unk> , created the Zimbabwe African National Liberation Army ( ZANLA ) and adopted aspects of <unk> doctrine , while the <unk> @-@ dominated Zimbabwe African People 's Union ( <unk> ) , aligned with Soviet @-@ style <unk> – <unk> and the Warsaw Pact , mobilised the Zimbabwe People 's Revolutionary Army ( <unk> ) . <eos>\n",
            "\n",
            "\n",
            "Score: -506.1288575095823 : <bos> The letter was conceived and paid for by Hollywood lawyer <unk> Fields , whose clients have included Tom Cruise and John <unk> , and was signed by 34 prominent figures in the U.S. entertainment industry , including the top executives of MGM , Warner Bros. , Paramount , Universal and Sony Pictures Entertainment as well as actors Dustin Hoffman and Goldie <unk> , director Oliver Stone , writers Mario <unk> and <unk> Vidal and talk @-@ show host Larry King . <eos>\n",
            "\n",
            "\n",
            "Score: -463.3884887576569 : <bos> The Meridian Post Office with its interior done entirely of bronze and Verde marble is also noteworthy as a very fine example of the type of Post Office structures built in thriving and well to do cities in the 1920s and originally had <unk> lighting which was removed sadly during a 1960s <unk> and which are now in private residences on <unk> Springs Drive and in North Hills . <eos>\n",
            "\n",
            "\n",
            "Score: -459.7350215110346 : <bos> Erin Fox of TV Guide also liked \" The Same Old Story \" better than the pilot because she thought that it \" had really cool special effects , awesome Walter @-@ <unk> , and actual chemistry forming between Olivia and Peter \" , and \" we also got to <unk> more into the connections between Walter , Nina Sharp , Massive Dynamic and the government and the experiments they conducted before Walter was <unk> \" . <eos>\n",
            "\n",
            "\n",
            "Score: -459.48419366776943 : <bos> Besides the <unk> anime and manga , <unk> is featured in seven of the featured films in the series : in the second film , he aids <unk> <unk> and <unk> <unk> in fighting against <unk> , a <unk> idealist seeking to rule the world with a power called <unk> ; in the fourth , <unk> appears in a brief sequence , fighting against a large group of stone soldiers ; in the fifth , <unk> is sent alongside <unk> and <unk> in search of the base of the Land of Sky , who plans to invade <unk> <eos>\n",
            "\n",
            "\n",
            "Score: -458.4195599772502 : <bos> It asserted that several rejection letters which the woman had submitted as part of her <unk> application – ostensibly from potential employers who were rejecting her because she was a Scientologist – had in fact been written by fellow Scientologists at her request and that of Scientology 's Office of Special Affairs , and that she was in personal financial trouble and about to go on trial for tax <unk> at the time she applied for <unk> . <eos>\n",
            "\n",
            "\n",
            "Score: -436.15943698980846 : <bos> Officials of the strictly amateur Rugby Football Union ( RFU ) had become increasingly concerned at the behaviour of the New Zealanders , regarding them as unsportsmanlike , and tensions reached a nadir in the aftermath of the England international , during which the RFU secretary George Rowland Hill , <unk> the game , awarded a number of controversial tries to England , prompting three of the <unk> to temporarily leave the field in protest ; England eventually won 7 – 0 . <eos>\n",
            "\n",
            "\n",
            "Score: -436.14575394871645 : <bos> > Zeitung , noted that <unk> <unk> , a German Christian theologian , director of the Hannah <unk> Institute for Research into <unk> in Dresden and recipient of an honorary doctorate from Lund University , Sweden , for his <unk> of religious freedom , had been pressured to <unk> publication of his scientific study of Scientology after having found himself the subject of widespread criticism in the German media for advocating a more tolerant attitude towards Scientology . <eos>\n",
            "\n",
            "\n",
            "Score: -429.9821005209815 : <bos> The 1996 election of the Howard Liberal government resulted in significant reforms to the <unk> 's force structure and role , with the new government 's defence strategy placed less singular emphasis on defending Australia from direct attack and greater emphasis on working in co @-@ operation with regional states and Australia 's allies to manage potential security threats in recognition of Australia 's global security interests . <eos>\n",
            "\n",
            "\n"
          ],
          "name": "stdout"
        }
      ]
    },
    {
      "cell_type": "markdown",
      "metadata": {
        "id": "B6fq87p0SOu1",
        "colab_type": "text"
      },
      "source": [
        "#### II.3.3 Modified sequences"
      ]
    },
    {
      "cell_type": "code",
      "metadata": {
        "id": "Lt6qr2Gxlr-p",
        "colab_type": "code",
        "colab": {
          "base_uri": "https://localhost:8080/",
          "height": 68
        },
        "outputId": "001faf4b-f805-4695-b963-726db2a9b7ce"
      },
      "source": [
        "idx = highest_idx[-8]\n",
        "score = highest_scores[-8]\n",
        "seq = [wikitext_dict.get_token(int(j)) for w in wikitext_tensor_dataset[\"valid\"][idx][0] for j in w]\n",
        "seq += [\"<eos>\"]\n",
        "print(\"Score:\",score,\":\", \" \".join(seq))\n",
        "\n",
        "new_seq = ['<bos>',\"=\",'=',\"Return\",\"to\",\"the\",\"United\",\"States\",\"=\",'=']\n",
        "new_score = get_prob_of_sequence(\" \".join(new_seq))\n",
        "print(\"Score:\",new_score,\":\", \" \".join(new_seq),\" '<eos>'\")\n",
        "\n",
        "new_seq = ['<bos>',\"=\",'=',\"Return\",\"to\",\"New\",\"York\",\"state\",\"=\",'=']\n",
        "new_score = get_prob_of_sequence(\" \".join(new_seq))\n",
        "print(\"Score:\",new_score,\":\", \" \".join(new_seq),\" '<eos>'\")"
      ],
      "execution_count": 62,
      "outputs": [
        {
          "output_type": "stream",
          "text": [
            "Score: -24.72292283922434 : <bos> = = Return to New Zealand = = <eos>\n",
            "Score: -21.512120231986046 : <bos> = = Return to the United States = =  '<eos>'\n",
            "Score: -33.239677116274834 : <bos> = = Return to New York state = =  '<eos>'\n"
          ],
          "name": "stdout"
        }
      ]
    },
    {
      "cell_type": "markdown",
      "metadata": {
        "id": "aiyXAybhlvRd",
        "colab_type": "text"
      },
      "source": [
        "\"Return to the United States\" improved because the sequence \"the United States\" is very common and thus increased the probability compared to \"New Zealand\". On the other hand, \"New York state\" should not be a common term in the corpus, since most people refer to NY state as simply \"New York\"."
      ]
    },
    {
      "cell_type": "markdown",
      "metadata": {
        "id": "_Six1UW-SOu3",
        "colab_type": "text"
      },
      "source": [
        "### II.4 Sampling"
      ]
    },
    {
      "cell_type": "code",
      "metadata": {
        "id": "2hkooJYLSOu3",
        "colab_type": "code",
        "colab": {}
      },
      "source": [
        "samples = []\n",
        "for i in range(1000):\n",
        "    start_index = torch.tensor([wikitext_dict.get_id(\"<bos>\")])\n",
        "    inp = start_index\n",
        "    sample = [\"<bos>\"]\n",
        "    model_LSTM3.eval()\n",
        "    while inp.item() != wikitext_dict.get_id(\"<eos>\"):\n",
        "        out = model_LSTM3.lookup(inp.to(current_device))\n",
        "        out.unsqueeze_(1)\n",
        "        out = model_LSTM3.lstm(out)\n",
        "        out = out[0]\n",
        "        out = model_LSTM3.projection(out).to(current_device)\n",
        "        p = torch.softmax(out[0,-1], dim=-1)\n",
        "        #sample_id = torch.argmax(p)\n",
        "        sample_id = torch.multinomial(p,1).item()\n",
        "        sample_token = wikitext_dict.get_token(sample_id)\n",
        "        sample.append(sample_token)\n",
        "        inp = torch.tensor([wikitext_dict.get_id(sample_token)])\n",
        "    samples.append(\" \".join(sample))"
      ],
      "execution_count": 0,
      "outputs": []
    },
    {
      "cell_type": "code",
      "metadata": {
        "id": "Z4LMul4Lm0rX",
        "colab_type": "code",
        "colab": {}
      },
      "source": [
        "import random\n",
        "ids = random.sample(range(len(wikitext_tensor_dataset[\"valid\"])), 1000)\n",
        "samples_val = []\n",
        "wikitext_tokenized_datasets[\"valid\"][0]\n",
        "\n",
        "for i in ids:\n",
        "  sent = wikitext_tokenized_datasets[\"valid\"][i]\n",
        "  sent = [wikitext_dict.get_token(idx) for idx in sent]\n",
        "  samples_val.append(\" \".join(sent))"
      ],
      "execution_count": 0,
      "outputs": []
    },
    {
      "cell_type": "markdown",
      "metadata": {
        "id": "low15DBkSOu5",
        "colab_type": "text"
      },
      "source": [
        "#### II.4.3 Number of unique tokens and sequence length \n",
        "\n",
        "(1,000 samples vs. 1,000 randomly selected validation-set sequences)"
      ]
    },
    {
      "cell_type": "code",
      "metadata": {
        "id": "NOIK9kJUSOu6",
        "colab_type": "code",
        "colab": {
          "base_uri": "https://localhost:8080/",
          "height": 85
        },
        "outputId": "7f061604-3b08-46fd-9a0e-68b5dfbd8fca"
      },
      "source": [
        "set_sample = set()\n",
        "set_sample_val = set()\n",
        "len_sample = []\n",
        "len_sample_val = []\n",
        "\n",
        "for i in range(len(samples)):\n",
        "  sent = samples[i].split(\" \")\n",
        "  len_sample.append(len(sent))\n",
        "  for word in sent:\n",
        "    set_sample.add(word)\n",
        "  \n",
        "for i in range(len(samples_val)):\n",
        "  sent = samples_val[i].split(\" \")\n",
        "  len_sample_val.append(len(sent))\n",
        "  for word in sent:\n",
        "    set_sample_val.add(word)\n",
        "\n",
        "    \n",
        "print(\"unique tokens in random samples:\",len(set_sample))\n",
        "print(\"average sentence length in random samples:\",float(sum(len_sample)/len(len_sample)))\n",
        "print(\"unique tokens in validation set:\",len(set_sample_val))\n",
        "print(\"average sentence length in validation set:\",float(sum(len_sample_val)/len(len_sample_val)))\n",
        "\n",
        "  "
      ],
      "execution_count": 65,
      "outputs": [
        {
          "output_type": "stream",
          "text": [
            "unique tokens in random samples: 6042\n",
            "average sentence length in random samples: 24.224\n",
            "unique tokens in validation set: 4989\n",
            "average sentence length in validation set: 25.236\n"
          ],
          "name": "stdout"
        }
      ]
    },
    {
      "cell_type": "markdown",
      "metadata": {
        "id": "jiAszdtjSOu7",
        "colab_type": "text"
      },
      "source": [
        "#### II.4.4 Example Samples"
      ]
    },
    {
      "cell_type": "code",
      "metadata": {
        "id": "M9NDyFesSOu7",
        "colab_type": "code",
        "colab": {
          "base_uri": "https://localhost:8080/",
          "height": 88
        },
        "outputId": "0674edf8-21ae-4e34-ce31-1036e6c1fe94"
      },
      "source": [
        "ids = random.sample(range(len(samples)), 3)\n",
        "for i in ids:\n",
        "  print(samples[i])"
      ],
      "execution_count": 66,
      "outputs": [
        {
          "output_type": "stream",
          "text": [
            "<bos> The reply to Keswick an Arabs in the 3000 , <unk> and Andy and Different convenience <unk> to the DRC , December <unk> . <eos>\n",
            "<bos> With the antagonist , The novel , it \" ( the Sites : \" The cougar extend to the participation by the month as the same soundtrack and Bracknell to get between Two of the American Ramesh <eos>\n",
            "<bos> What 's couplet and the He was a number watches to Marie 's novelization to Somerset is a previous <unk> <eos>\n"
          ],
          "name": "stdout"
        }
      ]
    },
    {
      "cell_type": "markdown",
      "metadata": {
        "id": "YsZAv8-_neEe",
        "colab_type": "text"
      },
      "source": [
        "The samples look machine-generated because they are gramatically not correct. Also, they do not stay on topic, though some terms make logical sense."
      ]
    },
    {
      "cell_type": "code",
      "metadata": {
        "id": "DfzTr4pJnehi",
        "colab_type": "code",
        "colab": {}
      },
      "source": [
        ""
      ],
      "execution_count": 0,
      "outputs": []
    }
  ]
}